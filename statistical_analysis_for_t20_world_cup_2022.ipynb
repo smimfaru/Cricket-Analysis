{
  "nbformat": 4,
  "nbformat_minor": 0,
  "metadata": {
    "colab": {
      "provenance": []
    },
    "kernelspec": {
      "name": "python3",
      "display_name": "Python 3"
    },
    "language_info": {
      "name": "python"
    }
  },
  "cells": [
    {
      "cell_type": "code",
      "execution_count": 12,
      "metadata": {
        "colab": {
          "base_uri": "https://localhost:8080/"
        },
        "id": "h3IMzGV2TW0b",
        "outputId": "0ae4834e-f2f1-4489-d6c3-99f86b82b505"
      },
      "outputs": [
        {
          "output_type": "execute_result",
          "data": {
            "text/plain": [
              "(                    name        team image    battingStyle  \\\n",
              " 0  Najmul Hossain Shanto  Bangladesh   NaN   Left hand Bat   \n",
              " 1          Soumya Sarkar  Bangladesh   NaN   Left hand Bat   \n",
              " 2             Litton Das  Bangladesh   NaN  Right hand Bat   \n",
              " 3     Shakib Al Hasan(c)  Bangladesh   NaN   Left hand Bat   \n",
              " 4           Afif Hossain  Bangladesh   NaN   Left hand Bat   \n",
              " \n",
              "              bowlingStyle          playingRole  \\\n",
              " 0      Right arm Offbreak     Top order Batter   \n",
              " 1   Right arm Medium fast  Middle order Batter   \n",
              " 2                     NaN  Wicketkeeper Batter   \n",
              " 3  Slow Left arm Orthodox           Allrounder   \n",
              " 4      Right arm Offbreak           Allrounder   \n",
              " \n",
              "                                          description  \n",
              " 0  Nazmul Hossain Shanto emerged from an unusual ...  \n",
              " 1  A rarity among Bangladesh allrounders, top-ord...  \n",
              " 2  Liton Das is the first wicketkeeper-batsman in...  \n",
              " 3  When the annals of Bangladesh cricket are sift...  \n",
              " 4  Bangladesh left-hander Afif Hossain made his T...  ,\n",
              "          team1        team2       winner     margin   ground     matchDate  \\\n",
              " 0      Namibia    Sri Lanka      Namibia    55 runs  Geelong  Oct 16, 2022   \n",
              " 1  Netherlands       U.A.E.  Netherlands  3 wickets  Geelong  Oct 16, 2022   \n",
              " 2     Scotland  West Indies     Scotland    42 runs   Hobart  Oct 17, 2022   \n",
              " 3      Ireland     Zimbabwe     Zimbabwe    31 runs   Hobart  Oct 17, 2022   \n",
              " 4      Namibia  Netherlands  Netherlands  5 wickets  Geelong  Oct 18, 2022   \n",
              " \n",
              "       match_id  \n",
              " 0  T20I # 1823  \n",
              " 1  T20I # 1825  \n",
              " 2  T20I # 1826  \n",
              " 3  T20I # 1828  \n",
              " 4  T20I # 1830  ,\n",
              "                   match teamInnings  battingPos             batsmanName  runs  \\\n",
              " 0  Namibia Vs Sri Lanka     Namibia           1      Michael van Lingen     3   \n",
              " 1  Namibia Vs Sri Lanka     Namibia           2           Divan la Cock     9   \n",
              " 2  Namibia Vs Sri Lanka     Namibia           3  Jan Nicol Loftie-Eaton    20   \n",
              " 3  Namibia Vs Sri Lanka     Namibia           4           Stephan Baard    26   \n",
              " 4  Namibia Vs Sri Lanka     Namibia           5      Gerhard Erasmus(c)    20   \n",
              " \n",
              "    balls  4s  6s      SR out/not_out     match_id  \n",
              " 0      6   0   0   50.00         out  T20I # 1823  \n",
              " 1      9   1   0  100.00         out  T20I # 1823  \n",
              " 2     12   1   2  166.66         out  T20I # 1823  \n",
              " 3     24   2   0  108.33         out  T20I # 1823  \n",
              " 4     24   0   0   83.33         out  T20I # 1823  ,\n",
              "                   match bowlingTeam                  bowlerName  overs  \\\n",
              " 0  Namibia Vs Sri Lanka   Sri Lanka          Maheesh Theekshana    4.0   \n",
              " 1  Namibia Vs Sri Lanka   Sri Lanka         Dushmantha Chameera    4.0   \n",
              " 2  Namibia Vs Sri Lanka   Sri Lanka             Pramod Madushan    4.0   \n",
              " 3  Namibia Vs Sri Lanka   Sri Lanka         Chamika Karunaratne    4.0   \n",
              " 4  Namibia Vs Sri Lanka   Sri Lanka  Wanindu Hasaranga de Silva    4.0   \n",
              " \n",
              "    maiden  runs  wickets  economy  0s  4s  6s  wides  noBalls     match_id  \n",
              " 0       0    23        1     5.75   7   0   0      2        0  T20I # 1823  \n",
              " 1       0    39        1     9.75   6   3   1      2        0  T20I # 1823  \n",
              " 2       0    37        2     9.25   6   3   1      0        0  T20I # 1823  \n",
              " 3       0    36        1     9.00   7   3   1      1        0  T20I # 1823  \n",
              " 4       0    27        1     6.75   8   1   1      0        0  T20I # 1823  )"
            ]
          },
          "metadata": {},
          "execution_count": 12
        }
      ],
      "source": [
        "import pandas as pd\n",
        "\n",
        "# Load all provided datasets\n",
        "players_df = pd.read_csv('dim_players.csv')\n",
        "match_results = pd.read_csv('dm_match_result.csv')\n",
        "batting_summary = pd.read_csv('fact_bating_summary.csv')\n",
        "bowling_summary = pd.read_csv('fact_bowling_summary.csv')\n",
        "\n",
        "# Display the first few rows of each dataset for understanding\n",
        "players_head = players_df.head()\n",
        "matches_head = match_results.head()\n",
        "batting_head = batting_summary.head()\n",
        "bowling_head = bowling_summary.head()\n",
        "\n",
        "(players_head, matches_head, batting_head, bowling_head)\n"
      ]
    },
    {
      "cell_type": "code",
      "source": [
        "## Merge batting summary, bowling summary, and match results using 'match_id'\n",
        "batting_with_results = pd.merge(batting_summary, match_results, on='match_id', how='inner')\n",
        "bowling_with_results = pd.merge(bowling_summary, match_results, on='match_id', how='inner')\n",
        "\n",
        "# Combine batting and bowling for overall player performance (joining on match, player names)\n",
        "batting_bowling_df = pd.merge(batting_with_results, bowling_with_results,\n",
        "                              left_on=['match', 'batsmanName'],\n",
        "                              right_on=['match', 'bowlerName'],\n",
        "                              how='outer')\n",
        "\n",
        "# Display the shape and first rows of the combined dataset\n",
        "batting_bowling_df.shape, batting_bowling_df.head()\n"
      ],
      "metadata": {
        "colab": {
          "base_uri": "https://localhost:8080/"
        },
        "id": "T-lqlgwOT7Wa",
        "outputId": "d3ef4a7a-e27c-417e-f6e9-a83baa155189"
      },
      "execution_count": 13,
      "outputs": [
        {
          "output_type": "execute_result",
          "data": {
            "text/plain": [
              "((914, 36),\n",
              "                     match  teamInnings  battingPos         batsmanName  \\\n",
              " 0  Afghanistan Vs England          NaN         NaN                 NaN   \n",
              " 1  Afghanistan Vs England      England         2.0          Alex Hales   \n",
              " 2  Afghanistan Vs England  Afghanistan         7.0  Azmatullah Omarzai   \n",
              " 3  Afghanistan Vs England      England         4.0          Ben Stokes   \n",
              " 4  Afghanistan Vs England          NaN         NaN                 NaN   \n",
              " \n",
              "    runs_x  balls  4s_x  6s_x      SR out/not_out  ... 6s_y wides noBalls  \\\n",
              " 0     NaN    NaN   NaN   NaN     NaN         NaN  ...  1.0   0.0     0.0   \n",
              " 1    19.0   20.0   0.0   1.0   95.00         out  ...  NaN   NaN     NaN   \n",
              " 2     8.0    6.0   1.0   0.0  133.33         out  ...  0.0   3.0     0.0   \n",
              " 3     2.0    4.0   0.0   0.0   50.00         out  ...  0.0   1.0     0.0   \n",
              " 4     NaN    NaN   NaN   NaN     NaN         NaN  ...  1.0   1.0     0.0   \n",
              " \n",
              "     match_id_y      team1_y  team2_y winner_y   margin_y ground_y  \\\n",
              " 0  T20I # 1840  Afghanistan  England  England  5 wickets    Perth   \n",
              " 1          NaN          NaN      NaN      NaN        NaN      NaN   \n",
              " 2  T20I # 1840  Afghanistan  England  England  5 wickets    Perth   \n",
              " 3  T20I # 1840  Afghanistan  England  England  5 wickets    Perth   \n",
              " 4  T20I # 1840  Afghanistan  England  England  5 wickets    Perth   \n",
              " \n",
              "     matchDate_y  \n",
              " 0  Oct 22, 2022  \n",
              " 1           NaN  \n",
              " 2  Oct 22, 2022  \n",
              " 3  Oct 22, 2022  \n",
              " 4  Oct 22, 2022  \n",
              " \n",
              " [5 rows x 36 columns])"
            ]
          },
          "metadata": {},
          "execution_count": 13
        }
      ]
    },
    {
      "cell_type": "code",
      "source": [
        "from sklearn.model_selection import train_test_split\n",
        "from sklearn.ensemble import RandomForestClassifier\n",
        "from sklearn.metrics import accuracy_score, classification_report\n",
        "from sklearn.utils import resample"
      ],
      "metadata": {
        "id": "NhFDNa0XWyxV"
      },
      "execution_count": 14,
      "outputs": []
    },
    {
      "cell_type": "code",
      "source": [
        "# Merge batting summary and match results using 'match_id'\n",
        "batting_with_results = pd.merge(batting_summary, match_results, on='match_id', how='inner')\n",
        "\n",
        "# Aggregate team-level features: total runs, wickets, and economy\n",
        "match_features = batting_with_results.groupby(['match', 'winner']).agg({\n",
        "    'runs': 'sum',\n",
        "    'batsmanName': 'count'  # Proxy for wickets\n",
        "}).reset_index()\n",
        "\n",
        "# Rename columns for clarity\n",
        "match_features.rename(columns={'runs': 'total_runs', 'batsmanName': 'total_wickets'}, inplace=True)\n",
        "\n",
        "# Encode the winner column as target\n",
        "match_features['winner_encoded'] = match_features['winner'].astype('category').cat.codes\n",
        "\n",
        "# Features and target\n",
        "X = match_features[['total_runs', 'total_wickets']]\n",
        "y = match_features['winner_encoded']\n",
        "\n",
        "# Balance classes manually\n",
        "class_counts = y.value_counts()\n",
        "majority_class = class_counts.idxmax()\n",
        "\n",
        "# Resample minority classes to match the majority class\n",
        "resampled_data = []\n",
        "for class_label in y.unique():\n",
        "    class_data = match_features[y == class_label]\n",
        "    if class_label == majority_class:\n",
        "        resampled_data.append(class_data)\n",
        "    else:\n",
        "        resampled_data.append(resample(class_data, replace=True, n_samples=class_counts.max(), random_state=42))\n",
        "\n",
        "# Combine resampled data\n",
        "balanced_data = pd.concat(resampled_data)\n",
        "X_balanced = balanced_data[['total_runs', 'total_wickets']]\n",
        "y_balanced = balanced_data['winner_encoded']\n",
        "\n",
        "# Train-test split\n",
        "X_train, X_test, y_train, y_test = train_test_split(X_balanced, y_balanced, test_size=0.2, random_state=42)\n",
        "\n",
        "# Train Random Forest model\n",
        "rf_model = RandomForestClassifier(n_estimators=100, random_state=42)\n",
        "rf_model.fit(X_train, y_train)\n",
        "\n",
        "# Predictions and evaluation\n",
        "y_pred = rf_model.predict(X_test)\n",
        "accuracy = accuracy_score(y_test, y_pred)\n",
        "report = classification_report(y_test, y_pred)\n",
        "\n",
        "accuracy, report\n"
      ],
      "metadata": {
        "colab": {
          "base_uri": "https://localhost:8080/"
        },
        "id": "BOdEeZDTWFxb",
        "outputId": "26b119f4-be63-4f0f-86f0-7a868dead3f5"
      },
      "execution_count": 15,
      "outputs": [
        {
          "output_type": "stream",
          "name": "stderr",
          "text": [
            "/usr/local/lib/python3.10/dist-packages/sklearn/metrics/_classification.py:1565: UndefinedMetricWarning: Precision is ill-defined and being set to 0.0 in labels with no predicted samples. Use `zero_division` parameter to control this behavior.\n",
            "  _warn_prf(average, modifier, f\"{metric.capitalize()} is\", len(result))\n",
            "/usr/local/lib/python3.10/dist-packages/sklearn/metrics/_classification.py:1565: UndefinedMetricWarning: Recall is ill-defined and being set to 0.0 in labels with no true samples. Use `zero_division` parameter to control this behavior.\n",
            "  _warn_prf(average, modifier, f\"{metric.capitalize()} is\", len(result))\n",
            "/usr/local/lib/python3.10/dist-packages/sklearn/metrics/_classification.py:1565: UndefinedMetricWarning: Precision is ill-defined and being set to 0.0 in labels with no predicted samples. Use `zero_division` parameter to control this behavior.\n",
            "  _warn_prf(average, modifier, f\"{metric.capitalize()} is\", len(result))\n",
            "/usr/local/lib/python3.10/dist-packages/sklearn/metrics/_classification.py:1565: UndefinedMetricWarning: Recall is ill-defined and being set to 0.0 in labels with no true samples. Use `zero_division` parameter to control this behavior.\n",
            "  _warn_prf(average, modifier, f\"{metric.capitalize()} is\", len(result))\n",
            "/usr/local/lib/python3.10/dist-packages/sklearn/metrics/_classification.py:1565: UndefinedMetricWarning: Precision is ill-defined and being set to 0.0 in labels with no predicted samples. Use `zero_division` parameter to control this behavior.\n",
            "  _warn_prf(average, modifier, f\"{metric.capitalize()} is\", len(result))\n",
            "/usr/local/lib/python3.10/dist-packages/sklearn/metrics/_classification.py:1565: UndefinedMetricWarning: Recall is ill-defined and being set to 0.0 in labels with no true samples. Use `zero_division` parameter to control this behavior.\n",
            "  _warn_prf(average, modifier, f\"{metric.capitalize()} is\", len(result))\n"
          ]
        },
        {
          "output_type": "execute_result",
          "data": {
            "text/plain": [
              "(0.75,\n",
              " '              precision    recall  f1-score   support\\n\\n           0       1.00      1.00      1.00         2\\n           1       0.50      1.00      0.67         1\\n           2       0.00      0.00      0.00         2\\n           3       1.00      1.00      1.00         1\\n           4       0.50      1.00      0.67         1\\n           5       1.00      1.00      1.00         2\\n           6       0.00      0.00      0.00         0\\n           8       0.00      0.00      0.00         1\\n          10       1.00      0.67      0.80         3\\n          12       0.67      1.00      0.80         2\\n          13       1.00      1.00      1.00         1\\n\\n    accuracy                           0.75        16\\n   macro avg       0.61      0.70      0.63        16\\nweighted avg       0.71      0.75      0.71        16\\n')"
            ]
          },
          "metadata": {},
          "execution_count": 15
        }
      ]
    },
    {
      "cell_type": "code",
      "source": [
        "# Merge bowling summary and match results using 'match_id'\n",
        "bowling_with_results = pd.merge(bowling_summary, match_results, on='match_id', how='inner')\n",
        "\n",
        "# Aggregate bowling features: total wickets, total runs conceded, and average economy rate\n",
        "bowling_features = bowling_with_results.groupby(['match', 'winner']).agg({\n",
        "    'wickets': 'sum',    # Total wickets taken\n",
        "    'runs': 'sum',       # Total runs conceded\n",
        "    'economy': 'mean'    # Average economy rate\n",
        "}).reset_index()\n",
        "\n",
        "# Rename columns for clarity\n",
        "bowling_features.rename(columns={'wickets': 'total_wickets_taken',\n",
        "                                 'runs': 'total_runs_conceded',\n",
        "                                 'economy': 'average_economy'}, inplace=True)\n",
        "\n",
        "# Merge batting features and bowling features\n",
        "match_combined_features = pd.merge(match_features, bowling_features, on=['match', 'winner'], how='inner')\n",
        "\n",
        "# Update features and target\n",
        "X_combined = match_combined_features[['total_runs', 'total_wickets',\n",
        "                                      'total_wickets_taken', 'total_runs_conceded', 'average_economy']]\n",
        "y_combined = match_combined_features['winner_encoded']\n",
        "\n",
        "# Balance classes\n",
        "resampled_data = []\n",
        "for class_label in y_combined.unique():\n",
        "    class_data = match_combined_features[y_combined == class_label]\n",
        "    if class_label == y_combined.value_counts().idxmax():\n",
        "        resampled_data.append(class_data)\n",
        "    else:\n",
        "        resampled_data.append(resample(class_data, replace=True, n_samples=y_combined.value_counts().max(), random_state=42))\n",
        "\n",
        "balanced_combined_data = pd.concat(resampled_data)\n",
        "\n",
        "# Split into features and target\n",
        "X_balanced_combined = balanced_combined_data[['total_runs', 'total_wickets',\n",
        "                                              'total_wickets_taken', 'total_runs_conceded', 'average_economy']]\n",
        "y_balanced_combined = balanced_combined_data['winner_encoded']\n",
        "\n",
        "# Train-test split\n",
        "X_train, X_test, y_train, y_test = train_test_split(X_balanced_combined, y_balanced_combined, test_size=0.2, random_state=42)\n",
        "\n",
        "# Train Random Forest model\n",
        "rf_model_combined = RandomForestClassifier(n_estimators=100, random_state=42)\n",
        "rf_model_combined.fit(X_train, y_train)\n",
        "\n",
        "# Predictions and evaluation\n",
        "y_pred_combined = rf_model_combined.predict(X_test)\n",
        "accuracy_combined = accuracy_score(y_test, y_pred_combined)\n",
        "report_combined = classification_report(y_test, y_pred_combined)\n",
        "\n",
        "accuracy_combined, report_combined\n"
      ],
      "metadata": {
        "colab": {
          "base_uri": "https://localhost:8080/"
        },
        "id": "fLaswjlUGLuz",
        "outputId": "8e108f18-39f3-4f40-85aa-36781628d907"
      },
      "execution_count": 16,
      "outputs": [
        {
          "output_type": "stream",
          "name": "stderr",
          "text": [
            "/usr/local/lib/python3.10/dist-packages/sklearn/metrics/_classification.py:1565: UndefinedMetricWarning: Precision is ill-defined and being set to 0.0 in labels with no predicted samples. Use `zero_division` parameter to control this behavior.\n",
            "  _warn_prf(average, modifier, f\"{metric.capitalize()} is\", len(result))\n",
            "/usr/local/lib/python3.10/dist-packages/sklearn/metrics/_classification.py:1565: UndefinedMetricWarning: Recall is ill-defined and being set to 0.0 in labels with no true samples. Use `zero_division` parameter to control this behavior.\n",
            "  _warn_prf(average, modifier, f\"{metric.capitalize()} is\", len(result))\n",
            "/usr/local/lib/python3.10/dist-packages/sklearn/metrics/_classification.py:1565: UndefinedMetricWarning: Precision is ill-defined and being set to 0.0 in labels with no predicted samples. Use `zero_division` parameter to control this behavior.\n",
            "  _warn_prf(average, modifier, f\"{metric.capitalize()} is\", len(result))\n",
            "/usr/local/lib/python3.10/dist-packages/sklearn/metrics/_classification.py:1565: UndefinedMetricWarning: Recall is ill-defined and being set to 0.0 in labels with no true samples. Use `zero_division` parameter to control this behavior.\n",
            "  _warn_prf(average, modifier, f\"{metric.capitalize()} is\", len(result))\n",
            "/usr/local/lib/python3.10/dist-packages/sklearn/metrics/_classification.py:1565: UndefinedMetricWarning: Precision is ill-defined and being set to 0.0 in labels with no predicted samples. Use `zero_division` parameter to control this behavior.\n",
            "  _warn_prf(average, modifier, f\"{metric.capitalize()} is\", len(result))\n",
            "/usr/local/lib/python3.10/dist-packages/sklearn/metrics/_classification.py:1565: UndefinedMetricWarning: Recall is ill-defined and being set to 0.0 in labels with no true samples. Use `zero_division` parameter to control this behavior.\n",
            "  _warn_prf(average, modifier, f\"{metric.capitalize()} is\", len(result))\n"
          ]
        },
        {
          "output_type": "execute_result",
          "data": {
            "text/plain": [
              "(0.75,\n",
              " '              precision    recall  f1-score   support\\n\\n           0       1.00      1.00      1.00         2\\n           1       0.50      1.00      0.67         1\\n           2       0.00      0.00      0.00         2\\n           3       0.50      1.00      0.67         1\\n           4       1.00      1.00      1.00         1\\n           5       1.00      1.00      1.00         2\\n           6       0.00      0.00      0.00         0\\n           8       0.00      0.00      0.00         1\\n          10       1.00      0.67      0.80         3\\n          12       1.00      1.00      1.00         2\\n          13       1.00      1.00      1.00         1\\n          14       0.00      0.00      0.00         0\\n\\n    accuracy                           0.75        16\\n   macro avg       0.58      0.64      0.59        16\\nweighted avg       0.75      0.75      0.73        16\\n')"
            ]
          },
          "metadata": {},
          "execution_count": 16
        }
      ]
    }
  ]
}